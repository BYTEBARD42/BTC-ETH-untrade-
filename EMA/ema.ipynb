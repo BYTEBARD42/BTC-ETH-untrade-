{
 "cells": [
  {
   "cell_type": "code",
   "execution_count": 1,
   "id": "6d36163d-e50e-4360-b1c5-170ad06ff151",
   "metadata": {},
   "outputs": [],
   "source": [
    "import numpy as np\n",
    "import pandas as pd\n",
    "import matplotlib.pyplot as plt\n",
    "import seaborn as sns"
   ]
  },
  {
   "cell_type": "code",
   "execution_count": 2,
   "id": "a377b22e-7076-45e8-a36d-11a291841562",
   "metadata": {},
   "outputs": [],
   "source": [
    "csv = pd.read_csv('./Data/BTC_2019_2023_30m.csv')"
   ]
  },
  {
   "cell_type": "code",
   "execution_count": 3,
   "id": "de60b644-ee3b-4f55-84eb-a8cb39403945",
   "metadata": {},
   "outputs": [],
   "source": [
    "csv = csv.rename(columns={\"Unnamed: 0\t\":'index'})"
   ]
  },
  {
   "cell_type": "code",
   "execution_count": 4,
   "id": "728c9acb-da69-41d0-bc86-baf444c0bfa7",
   "metadata": {},
   "outputs": [],
   "source": [
    "csv.columns.values[0] = \"user_id\""
   ]
  },
  {
   "cell_type": "code",
   "execution_count": 7,
   "id": "fbfd7cc4-db2d-4148-8428-13161fe03bc2",
   "metadata": {},
   "outputs": [],
   "source": [
    "csv.head\n",
    "df = csv\n",
    "df = df.assign(signals = 0)\n",
    "df = df.assign(trade_type = 'NaN')"
   ]
  },
  {
   "cell_type": "code",
   "execution_count": 9,
   "id": "65b7a8e6-9c9e-48cd-9d33-a09265f8f27b",
   "metadata": {},
   "outputs": [
    {
     "name": "stdout",
     "output_type": "stream",
     "text": [
      "         user_id             datetime     open     high      low    close  \\\n",
      "0              0  2019-09-08 17:57:00  10000.0  10000.0  10000.0  10000.0   \n",
      "1              1  2019-09-08 17:58:00  10000.0  10000.0  10000.0  10000.0   \n",
      "2              2  2019-09-08 17:59:00  10000.0  10000.0  10000.0  10000.0   \n",
      "3              3  2019-09-08 18:00:00  10000.0  10000.0  10000.0  10000.0   \n",
      "4              4  2019-09-08 18:01:00  10000.0  10000.0  10000.0  10000.0   \n",
      "...          ...                  ...      ...      ...      ...      ...   \n",
      "2268358  2268358  2023-12-31 23:56:00  42258.7  42274.4  42250.5  42274.4   \n",
      "2268359  2268359  2023-12-31 23:57:00  42274.3  42315.6  42274.3  42310.9   \n",
      "2268360  2268360  2023-12-31 23:58:00  42310.9  42314.5  42307.7  42312.6   \n",
      "2268361  2268361  2023-12-31 23:59:00  42312.7  42314.0  42293.7  42314.0   \n",
      "2268362  2268362  2024-01-01 00:00:00  42314.0  42335.8  42289.6  42331.9   \n",
      "\n",
      "          volume  signals trade_type        ema_20        ema_40  \n",
      "0          0.001        0        NaN  10000.000000  10000.000000  \n",
      "1          0.000        0        NaN  10000.000000  10000.000000  \n",
      "2          0.001        0        NaN  10000.000000  10000.000000  \n",
      "3          0.000        0        NaN  10000.000000  10000.000000  \n",
      "4          0.000        0        NaN  10000.000000  10000.000000  \n",
      "...          ...      ...        ...           ...           ...  \n",
      "2268358   53.364        0        NaN  42262.583831  42267.043657  \n",
      "2268359   69.259        0        NaN  42267.185371  42269.182991  \n",
      "2268360   82.110        1        NaN  42271.510574  42271.300894  \n",
      "2268361  125.766        0        NaN  42275.557186  42273.383777  \n",
      "2268362  289.641        0        NaN  42280.923168  42276.238227  \n",
      "\n",
      "[2268363 rows x 11 columns]\n"
     ]
    },
    {
     "name": "stderr",
     "output_type": "stream",
     "text": [
      "C:\\Users\\entro\\AppData\\Local\\Temp\\ipykernel_11840\\3108071952.py:41: FutureWarning: A value is trying to be set on a copy of a DataFrame or Series through chained assignment using an inplace method.\n",
      "The behavior will change in pandas 3.0. This inplace method will never work because the intermediate object on which we are setting values always behaves as a copy.\n",
      "\n",
      "For example, when doing 'df[col].method(value, inplace=True)', try using 'df.method({col: value}, inplace=True)' or df[col] = df[col].method(value) instead, to perform the operation inplace on the original object.\n",
      "\n",
      "\n",
      "  df['trade_type'].fillna('hold', inplace=True)\n"
     ]
    }
   ],
   "source": [
    "\n",
    "# Calculate EMA\n",
    "df['ema_20'] = df['close'].ewm(span=20, adjust=False).mean()\n",
    "df['ema_40'] = df['close'].ewm(span=40, adjust=False).mean()\n",
    "\n",
    "def generate_signals(df):\n",
    "    signals = []\n",
    "    for i in range(len(df)):\n",
    "        if i == 0:\n",
    "            signals.append(0)\n",
    "        elif df['ema_20'][i] > df['ema_40'][i] and df['ema_20'][i-1] <= df['ema_40'][i-1]:\n",
    "            signals.append(1)\n",
    "        elif df['ema_20'][i] < df['ema_40'][i] and df['ema_20'][i-1] >= df['ema_40'][i-1]:\n",
    "            signals.append(-1)\n",
    "        else:\n",
    "            signals.append(0)\n",
    "    return signals\n",
    "\n",
    "df['signals'] = generate_signals(df)\n",
    "\n",
    "def determine_trade_type(row):\n",
    "    if row['signals'] == 1 and (pd.isna(row['trade_type']) or row['trade_type'] == 'close'):\n",
    "        return 'long'\n",
    "    elif row['signals'] == -1 and (pd.isna(row['trade_type']) or row['trade_type'] == 'close'):\n",
    "        return 'short'\n",
    "    elif row['signals'] == -1 and row['trade_type'] == 'long':\n",
    "        return 'close'\n",
    "    elif row['signals'] == 1 and row['trade_type'] == 'short':\n",
    "        return 'close'\n",
    "    elif row['signals'] == -2:\n",
    "        return 'short'\n",
    "    elif row['signals'] == 2:\n",
    "        return 'long'\n",
    "    else:\n",
    "        return row['trade_type']\n",
    "\n",
    "df['trade_type'] = df.apply(determine_trade_type, axis=1)\n",
    "df['trade_type'].fillna('hold', inplace=True)\n"
   ]
  },
  {
   "cell_type": "code",
   "execution_count": 10,
   "id": "3d197603-6433-469c-bb98-90bba624f620",
   "metadata": {},
   "outputs": [],
   "source": [
    "df.to_csv ('./content/ema_result.csv', index=False)"
   ]
  }
 ],
 "metadata": {
  "kernelspec": {
   "display_name": "Python 3 (ipykernel)",
   "language": "python",
   "name": "python3"
  },
  "language_info": {
   "codemirror_mode": {
    "name": "ipython",
    "version": 3
   },
   "file_extension": ".py",
   "mimetype": "text/x-python",
   "name": "python",
   "nbconvert_exporter": "python",
   "pygments_lexer": "ipython3",
   "version": "3.12.4"
  }
 },
 "nbformat": 4,
 "nbformat_minor": 5
}
