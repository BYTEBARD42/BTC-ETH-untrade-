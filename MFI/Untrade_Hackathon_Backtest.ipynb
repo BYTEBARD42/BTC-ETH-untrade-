{
 "cells": [
  {
   "cell_type": "code",
   "execution_count": 1,
   "metadata": {
    "id": "Pcf2V0IX62VF"
   },
   "outputs": [],
   "source": [
    "csv_file_path = \"./mfi.csv\""
   ]
  },
  {
   "cell_type": "code",
   "execution_count": 2,
   "metadata": {
    "id": "w1jK2VHp38dW"
   },
   "outputs": [
    {
     "name": "stderr",
     "output_type": "stream",
     "text": [
      "Cloning into 'untrade-sdk'...\n"
     ]
    },
    {
     "name": "stdout",
     "output_type": "stream",
     "text": [
      "Processing c:\\users\\entro\\zelta_final\\zelta_final\\mfi\\untrade-sdk\n",
      "  Installing build dependencies: started\n",
      "  Installing build dependencies: finished with status 'done'\n",
      "  Getting requirements to build wheel: started\n",
      "  Getting requirements to build wheel: finished with status 'done'\n",
      "  Preparing metadata (pyproject.toml): started\n",
      "  Preparing metadata (pyproject.toml): finished with status 'done'\n",
      "Building wheels for collected packages: untrade\n",
      "  Building wheel for untrade (pyproject.toml): started\n",
      "  Building wheel for untrade (pyproject.toml): finished with status 'done'\n",
      "  Created wheel for untrade: filename=untrade-0.1.0-py3-none-any.whl size=5101 sha256=d584298cec0b64be0fa24b7bd902a7704f6bc76b8445d65bb34dc13ae66620e3\n",
      "  Stored in directory: c:\\users\\entro\\appdata\\local\\pip\\cache\\wheels\\bc\\63\\8b\\a5da6ae401fa3347590a87bf98ccaa2f71494f073c9bc41b64\n",
      "Successfully built untrade\n",
      "Installing collected packages: untrade\n",
      "  Attempting uninstall: untrade\n",
      "    Found existing installation: untrade 0.1.0\n",
      "    Uninstalling untrade-0.1.0:\n",
      "      Successfully uninstalled untrade-0.1.0\n",
      "Successfully installed untrade-0.1.0\n"
     ]
    }
   ],
   "source": [
    "!git clone https://github.com/ztuntrade/untrade-sdk.git\n",
    "!pip install ./untrade-sdk/.\n",
    "\n",
    "import uuid\n",
    "import os\n",
    "from untrade.client import Client"
   ]
  },
  {
   "cell_type": "code",
   "execution_count": 3,
   "metadata": {
    "id": "4Juy2DEZ45kV"
   },
   "outputs": [],
   "source": [
    "def perform_backtest(csv_file_path):\n",
    "     client = Client()\n",
    "     result = client.backtest(\n",
    "         jupyter_id=\"test\",\n",
    "         file_path=csv_file_path,\n",
    "         leverage=1,\n",
    "     )\n",
    "     return result\n",
    "\n",
    "\n",
    "def perform_backtest_large_csv(csv_file_path):\n",
    "    client = Client()\n",
    "    file_id = str(uuid.uuid4())\n",
    "    chunk_size = 90 * 1024 * 1024  # 90 MB\n",
    "    total_size = os.path.getsize(csv_file_path)\n",
    "    total_chunks = (total_size + chunk_size - 1) // chunk_size\n",
    "    chunk_number = 0\n",
    "\n",
    "    # Handle small files\n",
    "    if total_size <= chunk_size:\n",
    "        total_chunks = 1\n",
    "        result = client.backtest(\n",
    "            file_path=csv_file_path,\n",
    "            leverage=1,\n",
    "            jupyter_id=\"test\",\n",
    "        )\n",
    "        for value in result:\n",
    "            print(value)\n",
    "        return result\n",
    "\n",
    "    # Process large files in chunks\n",
    "    with open(csv_file_path, \"rb\") as f:\n",
    "        while True:\n",
    "            chunk_data = f.read(chunk_size)\n",
    "            if not chunk_data:\n",
    "                break\n",
    "\n",
    "            # Save each chunk temporarily in /tmp\n",
    "            chunk_file_path = f\"/tmp/{file_id}_chunk{chunk_number}.csv\"\n",
    "            with open(chunk_file_path, \"wb\") as chunk_file:\n",
    "                chunk_file.write(chunk_data)\n",
    "\n",
    "            # Perform backtest on the current chunk\n",
    "            result = client.backtest(\n",
    "                file_path=chunk_file_path,\n",
    "                leverage=1,\n",
    "                jupyter_id=\"test\",\n",
    "                file_id=file_id,\n",
    "                chunk_number=chunk_number,\n",
    "                total_chunks=total_chunks,\n",
    "            )\n",
    "\n",
    "            # Process the results of the backtest\n",
    "            for value in result:\n",
    "                print(value)\n",
    "\n",
    "            # Remove the temporary chunk file\n",
    "            os.remove(chunk_file_path)\n",
    "\n",
    "            # Move to the next chunk\n",
    "            chunk_number += 1\n",
    "\n",
    "    return result"
   ]
  },
  {
   "cell_type": "code",
   "execution_count": 4,
   "metadata": {
    "id": "zztBlRjJ607M"
   },
   "outputs": [
    {
     "name": "stdout",
     "output_type": "stream",
     "text": [
      "data: {\n",
      "  \"jupyter_id\": \"test\",\n",
      "  \"result_type\": \"Main\",\n",
      "  \"message\": \"Backtest completed\",\n",
      "  \"result\": {\n",
      "    \"static_statistics\": {\n",
      "      \"From\": \"2019-09-08 12:00:00\",\n",
      "      \"Total Trades\": 67,\n",
      "      \"Leverage Applied\": 1.0,\n",
      "      \"Winning Trades\": 37,\n",
      "      \"Losing Trades\": 30,\n",
      "      \"No. of Long Trades\": 17,\n",
      "      \"No. of Short Trades\": 50,\n",
      "      \"Benchmark Return(%)\": 322.726,\n",
      "      \"Benchmark Return(on $1000)\": 3227.26,\n",
      "      \"Win Rate\": 55.223881,\n",
      "      \"Winning Streak\": 5,\n",
      "      \"Losing Streak\": 3,\n",
      "      \"Gross Profit\": 1196.704725,\n",
      "      \"Net Profit\": 1096.204725,\n",
      "      \"Average Profit\": 16.361265,\n",
      "      \"Maximum Drawdown(%)\": 4.820251,\n",
      "      \"Average Drawdown(%)\": 0.903008,\n",
      "      \"Largest Win\": 346.191552,\n",
      "      \"Average Win\": 40.651643,\n",
      "      \"Largest Loss\": -50.817825,\n",
      "      \"Average Loss\": -13.596869,\n",
      "      \"Maximum Holding Time\": \"5 days 0:0:0\",\n",
      "      \"Average Holding Time\": \"1 days 3:13:25\",\n",
      "      \"Maximum Adverse Excursion\": 5.425967,\n",
      "      \"Average Adverse Excursion\": 1.414323,\n",
      "      \"Sharpe Ratio\": 6.02386,\n",
      "      \"Sortino Ratio\": 31.662007,\n",
      "      \"To\": \"2024-01-01 00:00:00\"\n",
      "    },\n",
      "    \"compound_statistics\": {\n",
      "      \"flag\": \"Trades Executed: 67\",\n",
      "      \"Initial Balance\": 1000.0,\n",
      "      \"Leverage Applied\": 1.0,\n",
      "      \"Number of Trades\": 67,\n",
      "      \"Profit Percentage\": 170.32577,\n",
      "      \"Maximum Drawdown\": 9.086548,\n",
      "      \"Average Drawdown\": 1.550137,\n",
      "      \"Time to Recovery(TTR)\": \"86.750000 days\",\n",
      "      \"Average TTR\": \"29.386364 days\",\n",
      "      \"Maximum PNL\": 401.177463,\n",
      "      \"Minimum PNL\": -114.926956,\n",
      "      \"Max Portfolio Balance\": 2731.508801,\n",
      "      \"Minimumm Portfolio Balance\": 990.098046,\n",
      "      \"Final Balance\": 2703.257703,\n",
      "      \"Total Fee\": 197.078761\n",
      "    }\n",
      "  }\n",
      "}\n",
      "\n",
      "\n",
      "<generator object Client._handle_response_stream at 0x000002D07F9B0860>\n"
     ]
    }
   ],
   "source": [
    "#change to perform_backtest_large_csv(csv_file_path) for large files\n",
    "backtest_result =  perform_backtest_large_csv(csv_file_path)\n",
    "print(backtest_result)\n",
    "for value in backtest_result:\n",
    "    print(value)"
   ]
  },
  {
   "cell_type": "code",
   "execution_count": null,
   "metadata": {
    "id": "7BPpNAHS7ISN"
   },
   "outputs": [],
   "source": []
  }
 ],
 "metadata": {
  "colab": {
   "provenance": []
  },
  "kernelspec": {
   "display_name": "Python 3 (ipykernel)",
   "language": "python",
   "name": "python3"
  },
  "language_info": {
   "codemirror_mode": {
    "name": "ipython",
    "version": 3
   },
   "file_extension": ".py",
   "mimetype": "text/x-python",
   "name": "python",
   "nbconvert_exporter": "python",
   "pygments_lexer": "ipython3",
   "version": "3.12.4"
  }
 },
 "nbformat": 4,
 "nbformat_minor": 4
}
